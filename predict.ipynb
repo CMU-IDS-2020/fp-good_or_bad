{
  "nbformat": 4,
  "nbformat_minor": 0,
  "metadata": {
    "colab": {
      "name": "predict.ipynb",
      "provenance": []
    },
    "kernelspec": {
      "name": "python3",
      "display_name": "Python 3"
    },
    "widgets": {
      "application/vnd.jupyter.widget-state+json": {
        "cbe03c83024449e7aad6dfccb57b4999": {
          "model_module": "@jupyter-widgets/controls",
          "model_name": "HBoxModel",
          "state": {
            "_view_name": "HBoxView",
            "_dom_classes": [],
            "_model_name": "HBoxModel",
            "_view_module": "@jupyter-widgets/controls",
            "_model_module_version": "1.5.0",
            "_view_count": null,
            "_view_module_version": "1.5.0",
            "box_style": "",
            "layout": "IPY_MODEL_1de7e3ea524549fd9c1b5005def10e27",
            "_model_module": "@jupyter-widgets/controls",
            "children": [
              "IPY_MODEL_178c4ba623d84be2880fbbdf669f19d9",
              "IPY_MODEL_3dcc80ca7e4e4d439496cfb26ccad2ba"
            ]
          }
        },
        "1de7e3ea524549fd9c1b5005def10e27": {
          "model_module": "@jupyter-widgets/base",
          "model_name": "LayoutModel",
          "state": {
            "_view_name": "LayoutView",
            "grid_template_rows": null,
            "right": null,
            "justify_content": null,
            "_view_module": "@jupyter-widgets/base",
            "overflow": null,
            "_model_module_version": "1.2.0",
            "_view_count": null,
            "flex_flow": null,
            "width": null,
            "min_width": null,
            "border": null,
            "align_items": null,
            "bottom": null,
            "_model_module": "@jupyter-widgets/base",
            "top": null,
            "grid_column": null,
            "overflow_y": null,
            "overflow_x": null,
            "grid_auto_flow": null,
            "grid_area": null,
            "grid_template_columns": null,
            "flex": null,
            "_model_name": "LayoutModel",
            "justify_items": null,
            "grid_row": null,
            "max_height": null,
            "align_content": null,
            "visibility": null,
            "align_self": null,
            "height": null,
            "min_height": null,
            "padding": null,
            "grid_auto_rows": null,
            "grid_gap": null,
            "max_width": null,
            "order": null,
            "_view_module_version": "1.2.0",
            "grid_template_areas": null,
            "object_position": null,
            "object_fit": null,
            "grid_auto_columns": null,
            "margin": null,
            "display": null,
            "left": null
          }
        },
        "178c4ba623d84be2880fbbdf669f19d9": {
          "model_module": "@jupyter-widgets/controls",
          "model_name": "FloatProgressModel",
          "state": {
            "_view_name": "ProgressView",
            "style": "IPY_MODEL_da4a8eb3434c4cfbac0748bee03b284b",
            "_dom_classes": [],
            "description": "",
            "_model_name": "FloatProgressModel",
            "bar_style": "success",
            "max": 1,
            "_view_module": "@jupyter-widgets/controls",
            "_model_module_version": "1.5.0",
            "value": 1,
            "_view_count": null,
            "_view_module_version": "1.5.0",
            "orientation": "horizontal",
            "min": 0,
            "description_tooltip": null,
            "_model_module": "@jupyter-widgets/controls",
            "layout": "IPY_MODEL_0df26b784b354f60994e948a58bcb5e5"
          }
        },
        "3dcc80ca7e4e4d439496cfb26ccad2ba": {
          "model_module": "@jupyter-widgets/controls",
          "model_name": "HTMLModel",
          "state": {
            "_view_name": "HTMLView",
            "style": "IPY_MODEL_65bec16b24574d72b7be16312223fee0",
            "_dom_classes": [],
            "description": "",
            "_model_name": "HTMLModel",
            "placeholder": "​",
            "_view_module": "@jupyter-widgets/controls",
            "_model_module_version": "1.5.0",
            "value": " 90.0k/? [00:00&lt;00:00, 1.19MB/s]",
            "_view_count": null,
            "_view_module_version": "1.5.0",
            "description_tooltip": null,
            "_model_module": "@jupyter-widgets/controls",
            "layout": "IPY_MODEL_86bdca679e8945d08b40443b3be41c88"
          }
        },
        "da4a8eb3434c4cfbac0748bee03b284b": {
          "model_module": "@jupyter-widgets/controls",
          "model_name": "ProgressStyleModel",
          "state": {
            "_view_name": "StyleView",
            "_model_name": "ProgressStyleModel",
            "description_width": "initial",
            "_view_module": "@jupyter-widgets/base",
            "_model_module_version": "1.5.0",
            "_view_count": null,
            "_view_module_version": "1.2.0",
            "bar_color": null,
            "_model_module": "@jupyter-widgets/controls"
          }
        },
        "0df26b784b354f60994e948a58bcb5e5": {
          "model_module": "@jupyter-widgets/base",
          "model_name": "LayoutModel",
          "state": {
            "_view_name": "LayoutView",
            "grid_template_rows": null,
            "right": null,
            "justify_content": null,
            "_view_module": "@jupyter-widgets/base",
            "overflow": null,
            "_model_module_version": "1.2.0",
            "_view_count": null,
            "flex_flow": null,
            "width": null,
            "min_width": null,
            "border": null,
            "align_items": null,
            "bottom": null,
            "_model_module": "@jupyter-widgets/base",
            "top": null,
            "grid_column": null,
            "overflow_y": null,
            "overflow_x": null,
            "grid_auto_flow": null,
            "grid_area": null,
            "grid_template_columns": null,
            "flex": null,
            "_model_name": "LayoutModel",
            "justify_items": null,
            "grid_row": null,
            "max_height": null,
            "align_content": null,
            "visibility": null,
            "align_self": null,
            "height": null,
            "min_height": null,
            "padding": null,
            "grid_auto_rows": null,
            "grid_gap": null,
            "max_width": null,
            "order": null,
            "_view_module_version": "1.2.0",
            "grid_template_areas": null,
            "object_position": null,
            "object_fit": null,
            "grid_auto_columns": null,
            "margin": null,
            "display": null,
            "left": null
          }
        },
        "65bec16b24574d72b7be16312223fee0": {
          "model_module": "@jupyter-widgets/controls",
          "model_name": "DescriptionStyleModel",
          "state": {
            "_view_name": "StyleView",
            "_model_name": "DescriptionStyleModel",
            "description_width": "",
            "_view_module": "@jupyter-widgets/base",
            "_model_module_version": "1.5.0",
            "_view_count": null,
            "_view_module_version": "1.2.0",
            "_model_module": "@jupyter-widgets/controls"
          }
        },
        "86bdca679e8945d08b40443b3be41c88": {
          "model_module": "@jupyter-widgets/base",
          "model_name": "LayoutModel",
          "state": {
            "_view_name": "LayoutView",
            "grid_template_rows": null,
            "right": null,
            "justify_content": null,
            "_view_module": "@jupyter-widgets/base",
            "overflow": null,
            "_model_module_version": "1.2.0",
            "_view_count": null,
            "flex_flow": null,
            "width": null,
            "min_width": null,
            "border": null,
            "align_items": null,
            "bottom": null,
            "_model_module": "@jupyter-widgets/base",
            "top": null,
            "grid_column": null,
            "overflow_y": null,
            "overflow_x": null,
            "grid_auto_flow": null,
            "grid_area": null,
            "grid_template_columns": null,
            "flex": null,
            "_model_name": "LayoutModel",
            "justify_items": null,
            "grid_row": null,
            "max_height": null,
            "align_content": null,
            "visibility": null,
            "align_self": null,
            "height": null,
            "min_height": null,
            "padding": null,
            "grid_auto_rows": null,
            "grid_gap": null,
            "max_width": null,
            "order": null,
            "_view_module_version": "1.2.0",
            "grid_template_areas": null,
            "object_position": null,
            "object_fit": null,
            "grid_auto_columns": null,
            "margin": null,
            "display": null,
            "left": null
          }
        }
      }
    }
  },
  "cells": [
    {
      "cell_type": "code",
      "metadata": {
        "id": "I_yoer6Nged_",
        "colab": {
          "base_uri": "https://localhost:8080/"
        },
        "outputId": "5ccf3d9a-0002-49dc-8a09-e17999dab509"
      },
      "source": [
        "import numpy as np\n",
        "import torch\n",
        "import time\n",
        "import nltk\n",
        "import torch.nn as nn\n",
        "import torch.nn.functional as F\n",
        "import torch.optim as optim\n",
        "nltk.download('stopwords')\n",
        "nltk.download('wordnet')\n",
        "from nltk.tokenize import RegexpTokenizer\n",
        "from nltk.stem import WordNetLemmatizer\n",
        "from nltk.corpus import stopwords\n",
        "from torch.nn.functional import pad\n",
        "import zipfile\n",
        "import os\n",
        "from os import listdir\n",
        "from zipfile import ZipFile\n",
        "from os.path import isfile, join\n",
        "from urllib.request import urlopen\n",
        "import pickle\n",
        "cuda = torch.cuda.is_available()"
      ],
      "execution_count": 3,
      "outputs": [
        {
          "output_type": "stream",
          "text": [
            "[nltk_data] Downloading package stopwords to /root/nltk_data...\n",
            "[nltk_data]   Package stopwords is already up-to-date!\n",
            "[nltk_data] Downloading package wordnet to /root/nltk_data...\n",
            "[nltk_data]   Package wordnet is already up-to-date!\n"
          ],
          "name": "stdout"
        }
      ]
    },
    {
      "cell_type": "code",
      "metadata": {
        "id": "VaTiqwM_jr82"
      },
      "source": [
        "class Network(nn.Module):\n",
        "    def __init__(self, input_channel, out_channel, kernel_sizes, output_dim):\n",
        "        super().__init__()\n",
        "        self.convs = nn.ModuleList([\n",
        "                                    nn.Conv1d(in_channels = input_channel, \n",
        "                                              out_channels = out_channel, \n",
        "                                              kernel_size = ks)\n",
        "                                    for ks in kernel_sizes\n",
        "                                    ])\n",
        "        \n",
        "        self.linear = nn.Linear(len(kernel_sizes) * out_channel, output_dim)\n",
        "        self.dropout = nn.Dropout(0.5)\n",
        "        \n",
        "    def forward(self, embedded):     \n",
        "        embedded = embedded.permute(0, 2, 1)       \n",
        "        conved = [F.relu(conv(embedded)) for conv in self.convs]\n",
        "        pooled = [F.max_pool1d(conv, conv.shape[2]).squeeze(2) for conv in conved]\n",
        "        cat = self.dropout(torch.cat(pooled, dim = 1))\n",
        "        return self.linear(cat)\n",
        "input_channel = 300\n",
        "out_channel = 100\n",
        "kernel_sizes = [3,4,5]\n",
        "output_dim = 5"
      ],
      "execution_count": 2,
      "outputs": []
    },
    {
      "cell_type": "code",
      "metadata": {
        "id": "8m57o8XB-giM"
      },
      "source": [
        "# !wget http://nlp.stanford.edu/data/glove.42B.300d.zip\n",
        "# !unzip *.zip\n",
        "# from google.colab import drive\n",
        "# drive.mount(\"/content/drive\")"
      ],
      "execution_count": null,
      "outputs": []
    },
    {
      "cell_type": "code",
      "metadata": {
        "id": "Ew3HwYMTGN3S"
      },
      "source": [
        "# read GloVe\n",
        "# citation: https://stackoverflow.com/questions/37793118/load-pretrained-glove-vectors-in-python\n",
        "def loadGloveModel(File):\n",
        "    print(\"Loading Glove Model\")\n",
        "    with open(File, 'r', encoding='utf-8') as f:\n",
        "        gloveModel = {}\n",
        "        for line in f:\n",
        "            splitLines = line.split()\n",
        "            word = splitLines[0]\n",
        "            wordEmbedding = np.array([float(value) for value in splitLines[1:]])\n",
        "            gloveModel[word] = wordEmbedding\n",
        "        print(len(gloveModel),\" words loaded!\")\n",
        "        return gloveModel\n",
        "# word2vec_dict = loadGloveModel(\"./glove.42B.300d.txt\")"
      ],
      "execution_count": null,
      "outputs": []
    },
    {
      "cell_type": "code",
      "metadata": {
        "colab": {
          "base_uri": "https://localhost:8080/",
          "height": 244,
          "referenced_widgets": [
            "cbe03c83024449e7aad6dfccb57b4999",
            "1de7e3ea524549fd9c1b5005def10e27",
            "178c4ba623d84be2880fbbdf669f19d9",
            "3dcc80ca7e4e4d439496cfb26ccad2ba",
            "da4a8eb3434c4cfbac0748bee03b284b",
            "0df26b784b354f60994e948a58bcb5e5",
            "65bec16b24574d72b7be16312223fee0",
            "86bdca679e8945d08b40443b3be41c88"
          ]
        },
        "id": "WmkJzmw8h5Vj",
        "outputId": "49a60bb4-3c84-4167-92d9-1d007263fddd"
      },
      "source": [
        "#predict\n",
        "def tokenize_sentence(sentence, word2vec_dict):\n",
        "    tokenizer = RegexpTokenizer(r'\\w+')\n",
        "    lemmatizer = WordNetLemmatizer() \n",
        "    english_stopwords = stopwords.words('english')\n",
        "    sentence = sentence.strip()\n",
        "    tokenized_sentence = [lemmatizer.lemmatize(token.lower()) for token in tokenizer.tokenize(sentence) if token.lower() in word2vec_dict and token.lower() not in english_stopwords]\n",
        "    return tokenized_sentence\n",
        "\n",
        "def load_word2vec_dict(word2vec_urls,word2vec_dir):\n",
        "  word2vec_dict = []\n",
        "  for i in range(len(word2vec_urls)):\n",
        "    url = word2vec_urls[i]\n",
        "    torch.hub.download_url_to_file(url,word2vec_dir)\n",
        "    word2vec = pickle.load(open(\"./drive/MyDrive/good_or_bad/word2vec/word2vec_dict1.pt\", \"rb\" ))\n",
        "    word2vec = list(word2vec.items())\n",
        "    word2vec_dict += word2vec\n",
        "  \n",
        "  return dict(word2vec_dict)\n",
        "      \n",
        "def predict(sentence, model_url = 'https://github.com/CMU-IDS-2020/fp-good_or_bad/raw/main/models/xentropy_adam_lr0.0001_wd0.0005_bs128.pt', word2vec_urls = ['https://github.com/CMU-IDS-2020/fp-good_or_bad/blob/main/word2vec/word2vec_dict{}.pt'.format(i+1) for i in range(5)],word2vec_dir = \"./word2vec\",max_seq_length = 29):\n",
        "  word2vec_dict = load_word2vec_dict(word2vec_urls,word2vec_dir)\n",
        "  tokenized_sentence = tokenize_sentence(sentence,word2vec_dict)\n",
        "  embedding = np.array([word2vec_dict[word] for word in tokenized_sentence])\n",
        "\n",
        "  model = Network(input_channel, out_channel, kernel_sizes, output_dim)\n",
        "  model.load_state_dict(torch.hub.load_state_dict_from_url(model_url, progress=False))\n",
        "  model.eval()\n",
        "  \n",
        "  embedding = np.expand_dims(embedding,axis=0)\n",
        "  embedding = pad(torch.FloatTensor(embedding), (0, 0, 0, max_seq_length - len(embedding)))\n",
        "  outputs = model(embedding)\n",
        "  \n",
        "  _, predicted = torch.max(outputs.data, 1)\n",
        "  return outputs.data, predicted.item() + 1, embedding\n",
        "\n",
        "# Example: input: sentence  output: model_outputs, predicted_rating, sentence_embedding\n",
        "predict(\"what a wonderful movie! I love it!\")\n",
        "# predict(\"what a terrible movie! I hate it!\")"
      ],
      "execution_count": 4,
      "outputs": [
        {
          "output_type": "display_data",
          "data": {
            "application/vnd.jupyter.widget-view+json": {
              "model_id": "cbe03c83024449e7aad6dfccb57b4999",
              "version_minor": 0,
              "version_major": 2
            },
            "text/plain": [
              "HBox(children=(FloatProgress(value=1.0, bar_style='info', max=1.0), HTML(value='')))"
            ]
          },
          "metadata": {
            "tags": []
          }
        },
        {
          "output_type": "stream",
          "text": [
            "\n"
          ],
          "name": "stdout"
        },
        {
          "output_type": "stream",
          "text": [
            "Downloading: \"https://github.com/CMU-IDS-2020/fp-good_or_bad/raw/main/models/xentropy_adam_lr0.0001_wd0.0005_bs128.pt\" to /root/.cache/torch/hub/checkpoints/xentropy_adam_lr0.0001_wd0.0005_bs128.pt\n"
          ],
          "name": "stderr"
        },
        {
          "output_type": "execute_result",
          "data": {
            "text/plain": [
              "(tensor([[-5.6343, -4.9686, -2.3953,  3.4261,  5.1620]]),\n",
              " 5,\n",
              " tensor([[[-0.1407,  0.0105, -0.3944,  ...,  0.1503,  0.0072,  0.0554],\n",
              "          [-0.4207, -0.1447,  0.1019,  ...,  0.1122, -0.1660,  0.7195],\n",
              "          [-0.1493, -0.0068, -0.2495,  ..., -0.0461,  0.1480,  0.4215],\n",
              "          ...,\n",
              "          [ 0.0000,  0.0000,  0.0000,  ...,  0.0000,  0.0000,  0.0000],\n",
              "          [ 0.0000,  0.0000,  0.0000,  ...,  0.0000,  0.0000,  0.0000],\n",
              "          [ 0.0000,  0.0000,  0.0000,  ...,  0.0000,  0.0000,  0.0000]]]))"
            ]
          },
          "metadata": {
            "tags": []
          },
          "execution_count": 4
        }
      ]
    },
    {
      "cell_type": "code",
      "metadata": {
        "id": "AiI6KEMG5_jV"
      },
      "source": [
        "# word2vec_dict = torch.load(\"/content/drive/MyDrive/good_or_bad/word2vec/word2vec_dict_1\")\n",
        "# word2vec_list = list(word2vec_dict.items())\n",
        "# num = 4\n",
        "# per_cnt = len(word2vec_list) // num\n",
        "# os.chdir('/content/drive/MyDrive/good_or_bad/word2vec')\n",
        "# for i in range(num):\n",
        "#   if i == num-1:\n",
        "#     vec = dict(word2vec_list[i*per_cnt:])\n",
        "#   else:\n",
        "#     vec = dict(word2vec_list[i*per_cnt:(i+1)*per_cnt])\n",
        "#   file_name = \"word2vec_dict{}\".format(i+1)\n",
        "#   zip_file_name = \"word2vec_dict{}.zip\".format(i+1)\n",
        "#   torch.save(vec,file_name)\n",
        "#   ZipFile(zip_file_name, 'w').write(file_name)\n",
        "\n",
        "# os.chdir('/content')\n",
        "\n",
        "\n",
        "# word2vec = torch.load(\"./drive/MyDrive/good_or_bad/word2vec_dict5\")\n",
        "# pickle.dump(word2vec,open( \"./drive/MyDrive/good_or_bad/word2vec/word2vec_dict5.pt\", \"wb\" ))"
      ],
      "execution_count": null,
      "outputs": []
    }
  ]
}