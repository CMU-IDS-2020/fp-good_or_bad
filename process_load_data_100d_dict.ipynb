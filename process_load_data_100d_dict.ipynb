{
  "nbformat": 4,
  "nbformat_minor": 0,
  "metadata": {
    "colab": {
      "name": "process_load_data_100d_dict.ipynb",
      "provenance": []
    },
    "kernelspec": {
      "display_name": "Python 3",
      "language": "python",
      "name": "python3"
    },
    "language_info": {
      "codemirror_mode": {
        "name": "ipython",
        "version": 3
      },
      "file_extension": ".py",
      "mimetype": "text/x-python",
      "name": "python",
      "nbconvert_exporter": "python",
      "pygments_lexer": "ipython3",
      "version": "3.8.3"
    }
  },
  "cells": [
    {
      "cell_type": "code",
      "metadata": {
        "id": "onYDCJE7tSbV"
      },
      "source": [
        "import nltk\n",
        "import numpy as np\n",
        "import torch\n",
        "from nltk.tokenize import RegexpTokenizer\n",
        "from nltk.stem import WordNetLemmatizer\n",
        "from nltk.corpus import stopwords\n",
        "from torch.utils.data import Dataset, DataLoader\n",
        "from torch.nn.functional import pad\n",
        "nltk.download('stopwords')\n",
        "nltk.download('wordnet')\n",
        "\n",
        "BATCH_SIZE = 64"
      ],
      "execution_count": null,
      "outputs": []
    },
    {
      "cell_type": "code",
      "metadata": {
        "id": "sxgoaPGDtSbd"
      },
      "source": [
        "# read GloVe\n",
        "# citation: https://stackoverflow.com/questions/37793118/load-pretrained-glove-vectors-in-python\n",
        "def loadGloveModel(File):\n",
        "    print(\"Loading Glove Model\")\n",
        "    with open(File, 'r', encoding='utf-8') as f:\n",
        "        gloveModel = {}\n",
        "        for line in f:\n",
        "            splitLines = line.split()\n",
        "            word = splitLines[0]\n",
        "            wordEmbedding = np.array([float(value) for value in splitLines[1:]])\n",
        "            gloveModel[word] = wordEmbedding\n",
        "        print(len(gloveModel),\" words loaded!\")\n",
        "        return gloveModel"
      ],
      "execution_count": 2,
      "outputs": []
    },
    {
      "cell_type": "code",
      "metadata": {
        "id": "hlpm6CaatSbf"
      },
      "source": [
        "# read movie reviews data\n",
        "# tokenize -> lowercase -> remove stopwords -> lemmatize\n",
        "def get_movie_reviews_data(path, data_type = \"train\"):\n",
        "    tokenizer = RegexpTokenizer(r'\\w+')\n",
        "    lemmatizer = WordNetLemmatizer() \n",
        "    english_stopwords = stopwords.words('english')\n",
        "    if data_type == \"train\":\n",
        "        with open(path) as f:\n",
        "            lines = list(f.readlines())[1:]\n",
        "            sentences = [line.split('\\t')[2] for line in lines]\n",
        "            labels = [int(line.split('\\t')[3]) for line in lines]\n",
        "            tokenized_sentences = [[lemmatizer.lemmatize(token.lower()) for token in tokenizer.tokenize(sentence) if token.lower() in word2vec_dict and token.lower() not in english_stopwords] for sentence in sentences]\n",
        "            zipped = [(x, y) for x, y in zip(tokenized_sentences, labels) if x != []]\n",
        "            tokenized_sentences = [x for x, y in zipped]\n",
        "            labels = [y for x, y in zipped]\n",
        "            return tokenized_sentences, labels\n",
        "    elif data_type == \"test\":\n",
        "        with open(path) as f:\n",
        "            lines = list(f.readlines())[1:]\n",
        "            sentences = [line.split('\\t')[2] for line in lines]\n",
        "            tokenized_sentences = [[lemmatizer.lemmatize(token.lower()) for token in tokenizer.tokenize(sentence) if token.lower() in word2vec_dict and token.lower() not in english_stopwords] for sentence in sentences]\n",
        "            tokenized_sentences = [x for x in tokenized_sentences if x != []]\n",
        "            return tokenized_sentences, None"
      ],
      "execution_count": 3,
      "outputs": []
    },
    {
      "cell_type": "code",
      "metadata": {
        "id": "n54BYUmWtSbi"
      },
      "source": [
        "# get embeddings\n",
        "def get_embeddings(tokenized_sentences, word2vec_dict):\n",
        "    return [np.array([word2vec_dict[word] for word in x if word in word2vec_dict]) for x in tokenized_sentences]"
      ],
      "execution_count": 4,
      "outputs": []
    },
    {
      "cell_type": "code",
      "metadata": {
        "id": "NPgaJTbNtSbk"
      },
      "source": [
        "# custom Dataset class\n",
        "class MovieReviewsData(Dataset):\n",
        "    def __init__(self, X, Y = None):\n",
        "        self.maxlen = max(len(x) for x in X)\n",
        "        self.X = [pad(torch.FloatTensor(x), (0, 0, 0, self.maxlen - len(x))) for x in X]\n",
        "        if Y is not None:\n",
        "            self.Y = torch.LongTensor(Y)\n",
        "        else:\n",
        "            self.Y = None\n",
        "    \n",
        "    def __len__(self):\n",
        "        return len(self.X)\n",
        "    \n",
        "    def __getitem__(self, idx):\n",
        "        if self.Y is not None:\n",
        "            return self.X[idx], self.Y[idx]\n",
        "        else:\n",
        "            return self.X[idx]"
      ],
      "execution_count": null,
      "outputs": []
    },
    {
      "cell_type": "code",
      "metadata": {
        "id": "XC4fWyNluO0c"
      },
      "source": [
        "!wget http://nlp.stanford.edu/data/glove.6B.zip"
      ],
      "execution_count": null,
      "outputs": []
    },
    {
      "cell_type": "code",
      "metadata": {
        "id": "MheTZumSyv57"
      },
      "source": [
        "!kaggle competitions download -c sentiment-analysis-on-movie-reviews"
      ],
      "execution_count": null,
      "outputs": []
    },
    {
      "cell_type": "code",
      "metadata": {
        "id": "zesfASVgtSbo"
      },
      "source": [
        "# load data\n",
        "!unzip *.zip\n",
        "# !unzip /content/competitions/sentiment-analysis-on-movie-reviews/\\*.zip\n",
        "word2vec_dict = loadGloveModel('./glove.6B.100d.txt')\n",
        "\n",
        "train_tokenized_sentences, train_Y = get_movie_reviews_data(\"./train.tsv\", \"train\")\n",
        "test_tokenized_sentences, _ = get_movie_reviews_data(\"./test.tsv\", \"test\")\n",
        "train_X = get_embeddings(train_tokenized_sentences, word2vec_dict)\n",
        "test_X = get_embeddings(test_tokenized_sentences, word2vec_dict)"
      ],
      "execution_count": null,
      "outputs": []
    },
    {
      "cell_type": "code",
      "metadata": {
        "id": "WJjYNTsVclbA"
      },
      "source": [
        "#save word2vec_dict\n",
        "import pickle\n",
        "num = 5\n",
        "per_num = len(word2vec_dict)//num\n",
        "word2vec_list = list(word2vec_dict.items())\n",
        "for i in range(num):\n",
        "  if i != num-1:\n",
        "    sub_word2vec = dict(word2vec_list[i*per_num:(i+1)*per_num])\n",
        "  else:\n",
        "    sub_word2vec = dict(word2vec_list[i*per_num:])\n",
        "  pickle.dump(sub_word2vec,open(\"./drive/My Drive/good_or_bad/word2vec/word2vec_100d/word2vec_100d_\" + str(i+1) + \".pt\",'wb'))"
      ],
      "execution_count": 14,
      "outputs": []
    },
    {
      "cell_type": "code",
      "metadata": {
        "id": "YLNNX9PEtSbr"
      },
      "source": [
        "#save training data\n",
        "np.save('/content/drive/MyDrive/good_or_bad/data/train_X_100d_dict.npy', train_X)\n",
        "np.save('/content/drive/MyDrive/good_or_bad/data/train_Y_100d_dict.npy', train_Y)\n",
        "np.save('/content/drive/MyDrive/good_or_bad/data/test_X_100d_dict.npy', test_X)"
      ],
      "execution_count": null,
      "outputs": []
    },
    {
      "cell_type": "code",
      "metadata": {
        "colab": {
          "base_uri": "https://localhost:8080/"
        },
        "id": "Dt_vtBRxtSbw",
        "outputId": "66f24ddf-9eee-43bd-e70b-df004f6f255c"
      },
      "source": [
        "from google.colab import drive\n",
        "drive.mount(\"/content/drive\")"
      ],
      "execution_count": 12,
      "outputs": [
        {
          "output_type": "stream",
          "text": [
            "Mounted at /content/drive\n"
          ],
          "name": "stdout"
        }
      ]
    },
    {
      "cell_type": "code",
      "metadata": {
        "colab": {
          "base_uri": "https://localhost:8080/"
        },
        "id": "17xAvNnYmmr5",
        "outputId": "412b998b-933c-43c4-853b-1f96239b0ab4"
      },
      "source": [
        "d = pickle.load(open(\"/content/drive/MyDrive/good_or_bad/sample_words_embeddings.pt\",'rb'))\n",
        "print(d.keys())"
      ],
      "execution_count": 17,
      "outputs": [
        {
          "output_type": "stream",
          "text": [
            "dict_keys(['good', 'best', 'great', 'surprise', 'interesting', 'bad', 'worst', 'boring', 'terrible', 'horrible'])\n"
          ],
          "name": "stdout"
        }
      ]
    },
    {
      "cell_type": "code",
      "metadata": {
        "id": "ANKHrN33p03E"
      },
      "source": [
        "#sample embeddings\n",
        "movie_review_words = {'easy':word2vec_dict['easy']\n",
        "                      ,\"like\":word2vec_dict['like']\n",
        "                      , \"device\":word2vec_dict['device']\n",
        "                      ,\"great\": word2vec_dict['great']\n",
        "                      ,\"love\" :word2vec_dict['love']\n",
        "                      ,'price' :word2vec_dict['price']\n",
        "                      , 'old':word2vec_dict['old']\n",
        "                      , 'game':word2vec_dict['game']\n",
        "                      , 'well':word2vec_dict['well']\n",
        "                      ,'better' :word2vec_dict['better']\n",
        "                      ,'horrible' :word2vec_dict['horrible']\n",
        "                      ,'bad' :word2vec_dict['bad']\n",
        "                      }\n",
        "pickle.dump(movie_review_words,open(\"/content/drive/MyDrive/good_or_bad/sample_word_embedding/100d/amazon_products_sample_embeddings.pt\",'wb'))"
      ],
      "execution_count": 24,
      "outputs": []
    }
  ]
}