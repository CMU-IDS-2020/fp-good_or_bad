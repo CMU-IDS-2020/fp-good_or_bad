{
 "cells": [
  {
   "cell_type": "code",
   "execution_count": 3,
   "metadata": {},
   "outputs": [],
   "source": [
    "import numpy as np\n",
    "import torch\n",
    "from torch.utils.data import Dataset, DataLoader\n",
    "from torch.nn.functional import pad\n",
    "\n",
    "BATCH_SIZE = 64"
   ]
  },
  {
   "cell_type": "code",
   "execution_count": 4,
   "metadata": {},
   "outputs": [],
   "source": [
    "train_X = np.load('train_X.npy', allow_pickle = True)\n",
    "train_Y = np.load('train_Y.npy', allow_pickle = True)\n",
    "test_X = np.load('test_X.npy', allow_pickle = True)"
   ]
  },
  {
   "cell_type": "code",
   "execution_count": 5,
   "metadata": {},
   "outputs": [],
   "source": [
    "# custom Dataset class\n",
    "class MovieReviewsData(Dataset):\n",
    "    def __init__(self, X, Y = None):\n",
    "        self.maxlen = max(len(x) for x in X)\n",
    "        self.X = [pad(torch.FloatTensor(x), (0, 0, 0, self.maxlen - len(x))) for x in X]\n",
    "        if Y is not None:\n",
    "            self.Y = torch.LongTensor(Y)\n",
    "        else:\n",
    "            self.Y = None\n",
    "    \n",
    "    def __len__(self):\n",
    "        return len(self.X)\n",
    "    \n",
    "    def __getitem__(self, idx):\n",
    "        if self.Y is not None:\n",
    "            return self.X[idx], self.Y[idx]\n",
    "        else:\n",
    "            return self.X[idx]"
   ]
  },
  {
   "cell_type": "code",
   "execution_count": 6,
   "metadata": {},
   "outputs": [],
   "source": [
    "train_dataset = MovieReviewsData(train_X, train_Y)\n",
    "test_dataset = MovieReviewsData(test_X)\n",
    "train_loader = DataLoader(train_dataset, shuffle = True, batch_size = BATCH_SIZE)\n",
    "test_loader = DataLoader(test_dataset, shuffle = False, batch_size = BATCH_SIZE)"
   ]
  },
  {
   "cell_type": "code",
   "execution_count": null,
   "metadata": {},
   "outputs": [],
   "source": []
  }
 ],
 "metadata": {
  "kernelspec": {
   "display_name": "Python 3",
   "language": "python",
   "name": "python3"
  },
  "language_info": {
   "codemirror_mode": {
    "name": "ipython",
    "version": 3
   },
   "file_extension": ".py",
   "mimetype": "text/x-python",
   "name": "python",
   "nbconvert_exporter": "python",
   "pygments_lexer": "ipython3",
   "version": "3.7.4"
  }
 },
 "nbformat": 4,
 "nbformat_minor": 4
}
